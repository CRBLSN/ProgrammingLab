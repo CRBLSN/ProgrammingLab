{
 "cells": [
  {
   "cell_type": "markdown",
   "id": "25c2e0fa",
   "metadata": {},
   "source": [
    "### Es 1\n",
    "Hai a disposizione un file `data.csv` contenente dati mensili di passeggeri con due colonne:\n",
    "\n",
    "- `date`: data in formato `YYYY-MM` (mese/anno)\n",
    "- `passengers`: numero di passeggeri per quel mese\n",
    "\n",
    "\n",
    "Costruisci un modello di **regressione polinomiale** che approssima l’andamento del numero di passeggeri nel tempo.\n",
    "\n",
    "1. Carica il dataset.\n",
    "2. Convertilo in un formato numerico utilizzando una colonna `mese_numerico` che conti i mesi a partire da gennaio 1949.\n",
    "3. Applica una regressione polinomiale (grado a tua scelta).\n",
    "4. Calcola l’RMSE tra i valori reali e quelli predetti.\n",
    "5. Visualizza i dati reali e la curva stimata con Plotly."
   ]
  },
  {
   "cell_type": "code",
   "execution_count": 1,
   "id": "e05dd39e",
   "metadata": {},
   "outputs": [],
   "source": [
    "import pandas as pd\n",
    "import numpy as np\n",
    "import scipy as sp\n",
    "import matplotlib.pyplot as plt\n",
    "import plotly.graph_objects as go\n",
    "from sklearn.preprocessing import PolynomialFeatures\n",
    "from sklearn.linear_model import LinearRegression\n",
    "from sklearn.metrics import mean_squared_error\n",
    "import math"
   ]
  },
  {
   "cell_type": "code",
   "execution_count": 2,
   "id": "4a95f670",
   "metadata": {},
   "outputs": [
    {
     "data": {
      "text/html": [
       "<div>\n",
       "<style scoped>\n",
       "    .dataframe tbody tr th:only-of-type {\n",
       "        vertical-align: middle;\n",
       "    }\n",
       "\n",
       "    .dataframe tbody tr th {\n",
       "        vertical-align: top;\n",
       "    }\n",
       "\n",
       "    .dataframe thead th {\n",
       "        text-align: right;\n",
       "    }\n",
       "</style>\n",
       "<table border=\"1\" class=\"dataframe\">\n",
       "  <thead>\n",
       "    <tr style=\"text-align: right;\">\n",
       "      <th></th>\n",
       "      <th>date</th>\n",
       "      <th>passengers</th>\n",
       "    </tr>\n",
       "  </thead>\n",
       "  <tbody>\n",
       "    <tr>\n",
       "      <th>0</th>\n",
       "      <td>1949-01</td>\n",
       "      <td>112.0</td>\n",
       "    </tr>\n",
       "    <tr>\n",
       "      <th>1</th>\n",
       "      <td>1949-02</td>\n",
       "      <td>118.0</td>\n",
       "    </tr>\n",
       "    <tr>\n",
       "      <th>2</th>\n",
       "      <td>1949-03</td>\n",
       "      <td>132.0</td>\n",
       "    </tr>\n",
       "    <tr>\n",
       "      <th>3</th>\n",
       "      <td>1949-04</td>\n",
       "      <td>129.0</td>\n",
       "    </tr>\n",
       "    <tr>\n",
       "      <th>4</th>\n",
       "      <td>1949-05</td>\n",
       "      <td>121.0</td>\n",
       "    </tr>\n",
       "  </tbody>\n",
       "</table>\n",
       "</div>"
      ],
      "text/plain": [
       "      date  passengers\n",
       "0  1949-01       112.0\n",
       "1  1949-02       118.0\n",
       "2  1949-03       132.0\n",
       "3  1949-04       129.0\n",
       "4  1949-05       121.0"
      ]
     },
     "execution_count": 2,
     "metadata": {},
     "output_type": "execute_result"
    }
   ],
   "source": [
    "#1\n",
    "df = pd.read_csv('data.csv')\n",
    "df.head(5)"
   ]
  },
  {
   "cell_type": "code",
   "execution_count": 3,
   "id": "8870a794",
   "metadata": {},
   "outputs": [
    {
     "name": "stdout",
     "output_type": "stream",
     "text": [
      "date             0\n",
      "passengers       1\n",
      "mese_numerico    0\n",
      "dtype: int64\n",
      "date             0\n",
      "passengers       0\n",
      "mese_numerico    0\n",
      "dtype: int64\n"
     ]
    }
   ],
   "source": [
    "#2\n",
    "df['mese_numerico'] = range(1, len(df) + 1)\n",
    "\n",
    "print(df.isnull().sum()) #noto che c'è un NA da rimuovere\n",
    "df.dropna(inplace=True)\n",
    "print(df.isnull().sum())"
   ]
  },
  {
   "cell_type": "code",
   "execution_count": 4,
   "id": "e3fac3fe",
   "metadata": {},
   "outputs": [],
   "source": [
    "#3\n",
    "grado = 2\n",
    "x = df[\"mese_numerico\"]\n",
    "y = df[\"passengers\"]\n",
    "\n",
    "coefficienti = np.polyfit(x,y,grado)\n",
    "y_predette = np.polyval(coefficienti, x)\n"
   ]
  },
  {
   "cell_type": "code",
   "execution_count": 5,
   "id": "393ad6c8",
   "metadata": {},
   "outputs": [
    {
     "data": {
      "text/plain": [
       "np.float64(45.23725439143307)"
      ]
     },
     "execution_count": 5,
     "metadata": {},
     "output_type": "execute_result"
    }
   ],
   "source": [
    "#4\n",
    "rmse = np.sqrt(( np.mean( (y-y_predette)**2 ) ))\n",
    "\n",
    "#srmse = math.sqrt(mean_squared_error(y, y_predette))\n",
    "rmse"
   ]
  },
  {
   "cell_type": "code",
   "execution_count": 6,
   "id": "e3cecf00",
   "metadata": {},
   "outputs": [
    {
     "data": {
      "image/png": "[encoded data removed]",
      "text/plain": [
       "<Figure size 640x480 with 1 Axes>"
      ]
     },
     "metadata": {},
     "output_type": "display_data"
    }
   ],
   "source": [
    "plt.scatter(x,y)\n",
    "plt.plot(x, y_predette, color = 'red')\n",
    "plt.show()"
   ]
  },
  {
   "cell_type": "code",
   "execution_count": 7,
   "id": "a052b47a",
   "metadata": {},
   "outputs": [
    {
     "data": {
      "application/vnd.plotly.v1+json": {
       "config": {
        "plotlyServerURL": "https://plot.ly"
       },
       "data": [
        {
         "marker": {
          "color": "blue",
          "size": 6
         },
         "mode": "markers",
         "name": "Dati reali",
         "type": "scatter",
         "x": {
          "bdata": "AQACAAMABAAFAAYABwAIAAkACgALAAwADQAOAA8AEAARABIAEwAUABUAFgAXABgAGQAaABsAHAAdAB4AHwAgACEAIgAjACQAJQAmACcAKAApACoAKwAsAC0ALgAvADAAMQAyADMANAA1ADYANwA4ADkAOgA7ADwAPQA+AD8AQABBAEIAQwBEAEUARgBHAEgASQBKAEsATABNAE4ATwBQAFEAUgBTAFQAVQBWAFcAWABZAFoAWwBcAF0AXgBfAGAAYQBiAGMAZABlAGYAZwBoAGkAagBrAGwAbQBuAG8AcABxAHIAcwB0AHUAdgB3AHgAeQB6AHsAfAB9AH4AfwCAAIEAggCEAA==",
          "dtype": "i2"
         },
         "y": {
          "bdata": "AAAAAAAAXEAAAAAAAIBdQAAAAAAAgGBAAAAAAAAgYEAAAAAAAEBeQAAAAAAA4GBAAAAAAACAYkAAAAAAAIBiQAAAAAAAAGFAAAAAAADAXUAAAAAAAABaQAAAAAAAgF1AAAAAAADAXEAAAAAAAIBfQAAAAAAAoGFAAAAAAADgYEAAAAAAAEBfQAAAAAAAoGJAAAAAAABAZUAAAAAAAEBlQAAAAAAAwGNAAAAAAACgYEAAAAAAAIBcQAAAAAAAgGFAAAAAAAAgYkAAAAAAAMBiQAAAAAAAQGZAAAAAAABgZEAAAAAAAIBlQAAAAAAAQGZAAAAAAADgaEAAAAAAAOBoQAAAAAAAAGdAAAAAAABAZEAAAAAAAEBiQAAAAAAAwGRAAAAAAABgZUAAAAAAAIBmQAAAAAAAIGhAAAAAAACgZkAAAAAAAOBmQAAAAAAAQGtAAAAAAADAbEAAAAAAAEBuQAAAAAAAIGpAAAAAAADgZ0AAAAAAAIBlQAAAAAAAQGhAAAAAAACAaEAAAAAAAIBoQAAAAAAAgG1AAAAAAABgbUAAAAAAAKBsQAAAAAAAYG5AAAAAAACAcEAAAAAAAABxQAAAAAAAoG1AAAAAAABgakAAAAAAAIBmQAAAAAAAIGlAAAAAAABAbkAAAAAAACBtQAAAAAAAsHBAAAAAAADQcEAAAAAAAOBwQAAAAAAAsHNAAAAAAADAdkAAAAAAALB1QAAAAAAAgHNAAAAAAAAgcUAAAAAAAKBtQAAAAAAAYHFAAAAAAADAcUAAAAAAAFBxQAAAAAAA0HNAAAAAAACQc0AAAAAAAOBzQAAAAAAAYHdAAAAAAADQeUAAAAAAAFB5QAAAAAAAMHZAAAAAAAAgc0AAAAAAAPBwQAAAAAAAIHNAAAAAAACwc0AAAAAAANByQAAAAAAAQHZAAAAAAADAdUAAAAAAADB2QAAAAAAAYHpAAAAAAAAQfUAAAAAAADB9QAAAAAAAQHlAAAAAAACwdUAAAAAAABBzQAAAAAAAAHVAAAAAAABAdUAAAAAAAOBzQAAAAAAAoHZAAAAAAADAdUAAAAAAALB2QAAAAAAAMHtAAAAAAACwfkAAAAAAAJB/QAAAAAAAQHlAAAAAAABwdkAAAAAAAGBzQAAAAAAAEHVAAAAAAACAdkAAAAAAAGB1QAAAAAAAYHlAAAAAAADAeEAAAAAAAEB6QAAAAAAAgH1AAAAAAAAggUAAAAAAAHiBQAAAAAAA8HxAAAAAAABweUAAAAAAAKB2QAAAAAAAUHlAAAAAAAAQekAAAAAAAHB4QAAAAAAAMHpAAAAAAADQfEAAAAAAAIB9QAAAAAAAuIBAAAAAAABwg0AAAAAAAPCCQAAAAAAAwH9AAAAAAADQfEAAAAAAAAB7QA==",
          "dtype": "f8"
         }
        },
        {
         "line": {
          "color": "red",
          "width": 3
         },
         "mode": "lines",
         "name": "Regressione polinomiale (grado 2)",
         "type": "scatter",
         "x": {
          "bdata": "AQACAAMABAAFAAYABwAIAAkACgALAAwADQAOAA8AEAARABIAEwAUABUAFgAXABgAGQAaABsAHAAdAB4AHwAgACEAIgAjACQAJQAmACcAKAApACoAKwAsAC0ALgAvADAAMQAyADMANAA1ADYANwA4ADkAOgA7ADwAPQA+AD8AQABBAEIAQwBEAEUARgBHAEgASQBKAEsATABNAE4ATwBQAFEAUgBTAFQAVQBWAFcAWABZAFoAWwBcAF0AXgBfAGAAYQBiAGMAZABlAGYAZwBoAGkAagBrAGwAbQBuAG8AcABxAHIAcwB0AHUAdgB3AHgAeQB6AHsAfAB9AH4AfwCAAIEAggCEAA==",
          "dtype": "i2"
         },
         "y": {
          "bdata": "HwzYMgZ1WkCRqXwPCvxaQHELlfj5g1tAvzEh7tUMXEB7HCHwnZZcQKTLlP5RIV1APD98GfKsXUBBd9dAfjleQLRzpnT2xl5AlDTptFpVX0DkuZ8Bq+RfQNABZa1zOmBA5Qg04AeDYEAy8jwZEsxgQLS9f1iSFWFAbmv8nYhfYUBg+7Lp9KlhQIdtozvX9GFA5sHNky9AYkB8+DHy/YtiQEgR0FZC2GJATAyowfwkY0CH6bkyLXJjQPioBarTv2NAoEqLJ/ANZECAzkqrglxkQJY0RDWLq2RA43x3xQn7ZEBnp+Rb/kplQCK0i/hom2VAFKNsm0nsZUA8dIdEoD1mQJwn3PNsj2ZANL1qqa/hZkAANTNlaDRnQAaPNSeXh2dAQMtx7zvbZ0Cz6ee9Vi9oQFzql5Lng2hAPM2Bbe7YaEBUkqVOay5pQKI5AzZehGlAJsOaI8faaUDjLmwXpjFqQNZ8dxH7iGpAAK28EcbgakBgvzsYBzlrQPiz9CS+kWtAxornN+vqa0DMQxRRjkRsQAjfenCnnmxAfFwbljb5bEAmvPXBO1RtQAb+CfS2r21AICJYLKgLbkBuKOBqD2huQPQQoq/sxG5Astud+j8ib0CkiNNLCYBvQNAXQ6NI3m9AmUR2AH8ecEBl7meyFE5wQE2JdmflfXBAUBWiH/GtcEBvkuraN95wQKkAUJm5DnFA/l/SWnY/cUBwsHEfbnBxQPzxLeegoXFApCQHsg7TcUBoSP1/twRyQEddEFGbNnJAQWNAJbpockBXWo38E5tyQIhC99aozXJA1Rt+tHgAc0A95iGVgzNzQMGh4njJZnNAYE7AX0qac0Aa7LpJBs5zQPF60jb9AXRA4voGJy82dEDwa1ganGp0QBjOxhBEn3RAXCFSCifUdEC7ZfoGRQl1QDabvwaePnVAzcGhCTJ0dUB+2aAPAap1QEzivBgL4HVANNz1JFAWdkA4x0s00Ex2QFijvkaLg3ZAlHBOXIG6dkDqLvt0svF2QFzexJAeKXdA6X6rr8Vgd0CTEK/Rp5h3QFeTz/bE0HdANwcNHx0JeEAybGdKsEF4QEnC3nh+enhAewlzqoezeEDJQSTfy+x4QDNr8hZLJnlAt4XdUQVgeUBXkeWP+pl5QBKOCtEq1HlA6ntMFZYOekDdWqtcPEl6QOoqJ6cdhHpAFOy/9Dm/ekBYnnVFkfp6QLlBSJkjNntANdY38PBxe0DNW0RK+a17QH/Sbac86ntATjq0B7smfEA3kxdrdGN8QDzdl9FooHxAXRg1O5jdfECZRO+nAht9QPBhxheoWH1AY3C6ioiWfUDyb8sApNR9QJxg+Xn6En5AYUJE9otRfkBCFax1WJB+QD/ZMPhfz35AVo7SfaIOf0DZy2yS2I1/QA==",
          "dtype": "f8"
         }
        }
       ],
       "layout": {
        "height": 500,
        "showlegend": true,
        "template": {
         "data": {
          "bar": [
           {
            "error_x": {
             "color": "#2a3f5f"
            },
            "error_y": {
             "color": "#2a3f5f"
            },
            "marker": {
             "line": {
              "color": "#E5ECF6",
              "width": 0.5
             },
             "pattern": {
              "fillmode": "overlay",
              "size": 10,
              "solidity": 0.2
             }
            },
            "type": "bar"
           }
          ],
          "barpolar": [
           {
            "marker": {
             "line": {
              "color": "#E5ECF6",
              "width": 0.5
             },
             "pattern": {
              "fillmode": "overlay",
              "size": 10,
              "solidity": 0.2
             }
            },
            "type": "barpolar"
           }
          ],
          "carpet": [
           {
            "aaxis": {
             "endlinecolor": "#2a3f5f",
             "gridcolor": "white",
             "linecolor": "white",
             "minorgridcolor": "white",
             "startlinecolor": "#2a3f5f"
            },
            "baxis": {
             "endlinecolor": "#2a3f5f",
             "gridcolor": "white",
             "linecolor": "white",
             "minorgridcolor": "white",
             "startlinecolor": "#2a3f5f"
            },
            "type": "carpet"
           }
          ],
          "choropleth": [
           {
            "colorbar": {
             "outlinewidth": 0,
             "ticks": ""
            },
            "type": "choropleth"
           }
          ],
          "contour": [
           {
            "colorbar": {
             "outlinewidth": 0,
             "ticks": ""
            },
            "colorscale": [
             [
              0,
              "#0d0887"
             ],
             [
              0.1111111111111111,
              "#46039f"
             ],
             [
              0.2222222222222222,
              "#7201a8"
             ],
             [
              0.3333333333333333,
              "#9c179e"
             ],
             [
              0.4444444444444444,
              "#bd3786"
             ],
             [
              0.5555555555555556,
              "#d8576b"
             ],
             [
              0.6666666666666666,
              "#ed7953"
             ],
             [
              0.7777777777777778,
              "#fb9f3a"
             ],
             [
              0.8888888888888888,
              "#fdca26"
             ],
             [
              1,
              "#f0f921"
             ]
            ],
            "type": "contour"
           }
          ],
          "contourcarpet": [
           {
            "colorbar": {
             "outlinewidth": 0,
             "ticks": ""
            },
            "type": "contourcarpet"
           }
          ],
          "heatmap": [
           {
            "colorbar": {
             "outlinewidth": 0,
             "ticks": ""
            },
            "colorscale": [
             [
              0,
              "#0d0887"
             ],
             [
              0.1111111111111111,
              "#46039f"
             ],
             [
              0.2222222222222222,
              "#7201a8"
             ],
             [
              0.3333333333333333,
              "#9c179e"
             ],
             [
              0.4444444444444444,
              "#bd3786"
             ],
             [
              0.5555555555555556,
              "#d8576b"
             ],
             [
              0.6666666666666666,
              "#ed7953"
             ],
             [
              0.7777777777777778,
              "#fb9f3a"
             ],
             [
              0.8888888888888888,
              "#fdca26"
             ],
             [
              1,
              "#f0f921"
             ]
            ],
            "type": "heatmap"
           }
          ],
          "histogram": [
           {
            "marker": {
             "pattern": {
              "fillmode": "overlay",
              "size": 10,
              "solidity": 0.2
             }
            },
            "type": "histogram"
           }
          ],
          "histogram2d": [
           {
            "colorbar": {
             "outlinewidth": 0,
             "ticks": ""
            },
            "colorscale": [
             [
              0,
              "#0d0887"
             ],
             [
              0.1111111111111111,
              "#46039f"
             ],
             [
              0.2222222222222222,
              "#7201a8"
             ],
             [
              0.3333333333333333,
              "#9c179e"
             ],
             [
              0.4444444444444444,
              "#bd3786"
             ],
             [
              0.5555555555555556,
              "#d8576b"
             ],
             [
              0.6666666666666666,
              "#ed7953"
             ],
             [
              0.7777777777777778,
              "#fb9f3a"
             ],
             [
              0.8888888888888888,
              "#fdca26"
             ],
             [
              1,
              "#f0f921"
             ]
            ],
            "type": "histogram2d"
           }
          ],
          "histogram2dcontour": [
           {
            "colorbar": {
             "outlinewidth": 0,
             "ticks": ""
            },
            "colorscale": [
             [
              0,
              "#0d0887"
             ],
             [
              0.1111111111111111,
              "#46039f"
             ],
             [
              0.2222222222222222,
              "#7201a8"
             ],
             [
              0.3333333333333333,
              "#9c179e"
             ],
             [
              0.4444444444444444,
              "#bd3786"
             ],
             [
              0.5555555555555556,
              "#d8576b"
             ],
             [
              0.6666666666666666,
              "#ed7953"
             ],
             [
              0.7777777777777778,
              "#fb9f3a"
             ],
             [
              0.8888888888888888,
              "#fdca26"
             ],
             [
              1,
              "#f0f921"
             ]
            ],
            "type": "histogram2dcontour"
           }
          ],
          "mesh3d": [
           {
            "colorbar": {
             "outlinewidth": 0,
             "ticks": ""
            },
            "type": "mesh3d"
           }
          ],
          "parcoords": [
           {
            "line": {
             "colorbar": {
              "outlinewidth": 0,
              "ticks": ""
             }
            },
            "type": "parcoords"
           }
          ],
          "pie": [
           {
            "automargin": true,
            "type": "pie"
           }
          ],
          "scatter": [
           {
            "fillpattern": {
             "fillmode": "overlay",
             "size": 10,
             "solidity": 0.2
            },
            "type": "scatter"
           }
          ],
          "scatter3d": [
           {
            "line": {
             "colorbar": {
              "outlinewidth": 0,
              "ticks": ""
             }
            },
            "marker": {
             "colorbar": {
              "outlinewidth": 0,
              "ticks": ""
             }
            },
            "type": "scatter3d"
           }
          ],
          "scattercarpet": [
           {
            "marker": {
             "colorbar": {
              "outlinewidth": 0,
              "ticks": ""
             }
            },
            "type": "scattercarpet"
           }
          ],
          "scattergeo": [
           {
            "marker": {
             "colorbar": {
              "outlinewidth": 0,
              "ticks": ""
             }
            },
            "type": "scattergeo"
           }
          ],
          "scattergl": [
           {
            "marker": {
             "colorbar": {
              "outlinewidth": 0,
              "ticks": ""
             }
            },
            "type": "scattergl"
           }
          ],
          "scattermap": [
           {
            "marker": {
             "colorbar": {
              "outlinewidth": 0,
              "ticks": ""
             }
            },
            "type": "scattermap"
           }
          ],
          "scattermapbox": [
           {
            "marker": {
             "colorbar": {
              "outlinewidth": 0,
              "ticks": ""
             }
            },
            "type": "scattermapbox"
           }
          ],
          "scatterpolar": [
           {
            "marker": {
             "colorbar": {
              "outlinewidth": 0,
              "ticks": ""
             }
            },
            "type": "scatterpolar"
           }
          ],
          "scatterpolargl": [
           {
            "marker": {
             "colorbar": {
              "outlinewidth": 0,
              "ticks": ""
             }
            },
            "type": "scatterpolargl"
           }
          ],
          "scatterternary": [
           {
            "marker": {
             "colorbar": {
              "outlinewidth": 0,
              "ticks": ""
             }
            },
            "type": "scatterternary"
           }
          ],
          "surface": [
           {
            "colorbar": {
             "outlinewidth": 0,
             "ticks": ""
            },
            "colorscale": [
             [
              0,
              "#0d0887"
             ],
             [
              0.1111111111111111,
              "#46039f"
             ],
             [
              0.2222222222222222,
              "#7201a8"
             ],
             [
              0.3333333333333333,
              "#9c179e"
             ],
             [
              0.4444444444444444,
              "#bd3786"
             ],
             [
              0.5555555555555556,
              "#d8576b"
             ],
             [
              0.6666666666666666,
              "#ed7953"
             ],
             [
              0.7777777777777778,
              "#fb9f3a"
             ],
             [
              0.8888888888888888,
              "#fdca26"
             ],
             [
              1,
              "#f0f921"
             ]
            ],
            "type": "surface"
           }
          ],
          "table": [
           {
            "cells": {
             "fill": {
              "color": "#EBF0F8"
             },
             "line": {
              "color": "white"
             }
            },
            "header": {
             "fill": {
              "color": "#C8D4E3"
             },
             "line": {
              "color": "white"
             }
            },
            "type": "table"
           }
          ]
         },
         "layout": {
          "annotationdefaults": {
           "arrowcolor": "#2a3f5f",
           "arrowhead": 0,
           "arrowwidth": 1
          },
          "autotypenumbers": "strict",
          "coloraxis": {
           "colorbar": {
            "outlinewidth": 0,
            "ticks": ""
           }
          },
          "colorscale": {
           "diverging": [
            [
             0,
             "#8e0152"
            ],
            [
             0.1,
             "#c51b7d"
            ],
            [
             0.2,
             "#de77ae"
            ],
            [
             0.3,
             "#f1b6da"
            ],
            [
             0.4,
             "#fde0ef"
            ],
            [
             0.5,
             "#f7f7f7"
            ],
            [
             0.6,
             "#e6f5d0"
            ],
            [
             0.7,
             "#b8e186"
            ],
            [
             0.8,
             "#7fbc41"
            ],
            [
             0.9,
             "#4d9221"
            ],
            [
             1,
             "#276419"
            ]
           ],
           "sequential": [
            [
             0,
             "#0d0887"
            ],
            [
             0.1111111111111111,
             "#46039f"
            ],
            [
             0.2222222222222222,
             "#7201a8"
            ],
            [
             0.3333333333333333,
             "#9c179e"
            ],
            [
             0.4444444444444444,
             "#bd3786"
            ],
            [
             0.5555555555555556,
             "#d8576b"
            ],
            [
             0.6666666666666666,
             "#ed7953"
            ],
            [
             0.7777777777777778,
             "#fb9f3a"
            ],
            [
             0.8888888888888888,
             "#fdca26"
            ],
            [
             1,
             "#f0f921"
            ]
           ],
           "sequentialminus": [
            [
             0,
             "#0d0887"
            ],
            [
             0.1111111111111111,
             "#46039f"
            ],
            [
             0.2222222222222222,
             "#7201a8"
            ],
            [
             0.3333333333333333,
             "#9c179e"
            ],
            [
             0.4444444444444444,
             "#bd3786"
            ],
            [
             0.5555555555555556,
             "#d8576b"
            ],
            [
             0.6666666666666666,
             "#ed7953"
            ],
            [
             0.7777777777777778,
             "#fb9f3a"
            ],
            [
             0.8888888888888888,
             "#fdca26"
            ],
            [
             1,
             "#f0f921"
            ]
           ]
          },
          "colorway": [
           "#636efa",
           "#EF553B",
           "#00cc96",
           "#ab63fa",
           "#FFA15A",
           "#19d3f3",
           "#FF6692",
           "#B6E880",
           "#FF97FF",
           "#FECB52"
          ],
          "font": {
           "color": "#2a3f5f"
          },
          "geo": {
           "bgcolor": "white",
           "lakecolor": "white",
           "landcolor": "#E5ECF6",
           "showlakes": true,
           "showland": true,
           "subunitcolor": "white"
          },
          "hoverlabel": {
           "align": "left"
          },
          "hovermode": "closest",
          "mapbox": {
           "style": "light"
          },
          "paper_bgcolor": "white",
          "plot_bgcolor": "#E5ECF6",
          "polar": {
           "angularaxis": {
            "gridcolor": "white",
            "linecolor": "white",
            "ticks": ""
           },
           "bgcolor": "#E5ECF6",
           "radialaxis": {
            "gridcolor": "white",
            "linecolor": "white",
            "ticks": ""
           }
          },
          "scene": {
           "xaxis": {
            "backgroundcolor": "#E5ECF6",
            "gridcolor": "white",
            "gridwidth": 2,
            "linecolor": "white",
            "showbackground": true,
            "ticks": "",
            "zerolinecolor": "white"
           },
           "yaxis": {
            "backgroundcolor": "#E5ECF6",
            "gridcolor": "white",
            "gridwidth": 2,
            "linecolor": "white",
            "showbackground": true,
            "ticks": "",
            "zerolinecolor": "white"
           },
           "zaxis": {
            "backgroundcolor": "#E5ECF6",
            "gridcolor": "white",
            "gridwidth": 2,
            "linecolor": "white",
            "showbackground": true,
            "ticks": "",
            "zerolinecolor": "white"
           }
          },
          "shapedefaults": {
           "line": {
            "color": "#2a3f5f"
           }
          },
          "ternary": {
           "aaxis": {
            "gridcolor": "white",
            "linecolor": "white",
            "ticks": ""
           },
           "baxis": {
            "gridcolor": "white",
            "linecolor": "white",
            "ticks": ""
           },
           "bgcolor": "#E5ECF6",
           "caxis": {
            "gridcolor": "white",
            "linecolor": "white",
            "ticks": ""
           }
          },
          "title": {
           "x": 0.05
          },
          "xaxis": {
           "automargin": true,
           "gridcolor": "white",
           "linecolor": "white",
           "ticks": "",
           "title": {
            "standoff": 15
           },
           "zerolinecolor": "white",
           "zerolinewidth": 2
          },
          "yaxis": {
           "automargin": true,
           "gridcolor": "white",
           "linecolor": "white",
           "ticks": "",
           "title": {
            "standoff": 15
           },
           "zerolinecolor": "white",
           "zerolinewidth": 2
          }
         }
        },
        "title": {
         "text": "Regressione Polinomiale - Numero di Passeggeri nel Tempo"
        },
        "width": 800,
        "xaxis": {
         "title": {
          "text": "Mese Numerico (da Gennaio 1949)"
         }
        },
        "yaxis": {
         "title": {
          "text": "Numero di Passeggeri"
         }
        }
       }
      }
     },
     "metadata": {},
     "output_type": "display_data"
    }
   ],
   "source": [
    "fig = go.Figure()\n",
    "fig.add_trace(go.Scatter(\n",
    "    x=x,\n",
    "    y=y,\n",
    "    mode='markers',\n",
    "    name='Dati reali',\n",
    "    marker=dict(color='blue', size=6)\n",
    "))\n",
    "\n",
    "fig.add_trace(go.Scatter(\n",
    "    x=x,\n",
    "    y=y_predette,\n",
    "    mode='lines',\n",
    "    name=f'Regressione polinomiale (grado {grado})',\n",
    "    line=dict(color='red', width=3)\n",
    "))\n",
    "\n",
    "fig.update_layout(\n",
    "    title=f'Regressione Polinomiale - Numero di Passeggeri nel Tempo',\n",
    "    xaxis_title='Mese Numerico (da Gennaio 1949)',\n",
    "    yaxis_title='Numero di Passeggeri',\n",
    "    showlegend=True,\n",
    "    width=800,\n",
    "    height=500\n",
    ")\n",
    "\n",
    "fig.show()"
   ]
  },
  {
   "cell_type": "markdown",
   "id": "640ee914",
   "metadata": {},
   "source": [
    "### Es2. \n",
    "Costruisci una web app con Dash che permette all’utente di scegliere il grado del polinomio per adattare un modello di regressione ai dati non lineari e vedere il risultato aggiornarsi dinamicamente.\n",
    "\n",
    "\n",
    "1. Genera 100 punti x tra -3 e 3.\n",
    "\n",
    "2. Calcola ad esempio y = x³ - x + rumore.\n",
    "\n",
    "3. Costruisci un'interfaccia Dash con:\n",
    "    - uno slider per scegliere il grado del polinomio (1–10),\n",
    "    - un grafico Plotly che mostra i dati e la curva stimata.\n",
    "\n",
    "4. Usa PolynomialFeatures + LinearRegression da scikit-learn per stimare la curva"
   ]
  },
  {
   "cell_type": "code",
   "execution_count": 14,
   "id": "0c6452cf",
   "metadata": {},
   "outputs": [],
   "source": [
    "import dash\n",
    "from dash import dcc, html, Input, Output"
   ]
  },
  {
   "cell_type": "code",
   "execution_count": 15,
   "id": "02d7b7c5",
   "metadata": {},
   "outputs": [],
   "source": [
    "#1\n",
    "np.random.seed(42)  # Per risultati riproducibili\n",
    "x = np.linspace(-3, 3, 100)"
   ]
  },
  {
   "cell_type": "code",
   "execution_count": 16,
   "id": "46fbaee2",
   "metadata": {},
   "outputs": [],
   "source": [
    "# 2. Calcola y = x³ - x + rumore\n",
    "noise = np.random.normal(0, 0.3, 100)\n",
    "y = x**3 - x + noise"
   ]
  },
  {
   "cell_type": "code",
   "execution_count": 17,
   "id": "a7b82bf2",
   "metadata": {},
   "outputs": [],
   "source": [
    "#3\n",
    "app = dash.Dash(__name__)\n",
    "\n",
    "\n",
    "app.layout = html.Div([\n",
    "    html.H1(\"Regressione Polinomiale Interattiva\", \n",
    "            style={'text-align': 'center', 'color': '#2c3e50'}),\n",
    "    \n",
    "    html.Div([\n",
    "        html.Label(\"Scegli il grado del polinomio:\", \n",
    "                  style={'font-size': '16px', 'font-weight': 'bold'}),\n",
    "        dcc.Slider(\n",
    "            id='grado-slider',\n",
    "            min=1,\n",
    "            max=10,\n",
    "            step=1,\n",
    "            value=3,\n",
    "            marks={i: str(i) for i in range(1, 11)},\n",
    "            tooltip={\"placement\": \"bottom\", \"always_visible\": True}\n",
    "        ),\n",
    "        html.Div(id='rmse-output', \n",
    "                style={'margin-top': '20px', 'font-size': '14px', 'color': '#34495e'})\n",
    "    ], style={'margin': '20px', 'padding': '20px', 'background-color': '#f8f9fa', 'border-radius': '10px'}),\n",
    "    \n",
    "    dcc.Graph(id='grafico-regressione'),\n",
    "    \n",
    "    html.Div([\n",
    "        html.H3(\"Informazioni sui Dati\"),\n",
    "        html.P(\"• Funzione originale: y = x³ - x + rumore\"),\n",
    "        html.P(\"• 100 punti generati tra x = -3 e x = 3\"),\n",
    "        html.P(\"• Usa lo slider per vedere come cambia l'adattamento al variare del grado del polinomio\")\n",
    "    ], style={'margin': '20px', 'padding': '20px', 'background-color': '#e8f4f8', 'border-radius': '10px'})\n",
    "])\n"
   ]
  },
  {
   "cell_type": "code",
   "execution_count": 18,
   "id": "e7a3bb7b",
   "metadata": {},
   "outputs": [],
   "source": [
    "#4\n",
    "@app.callback(\n",
    "    [Output('grafico-regressione', 'figure'),\n",
    "     Output('rmse-output', 'children')],\n",
    "    [Input('grado-slider', 'value')]\n",
    ")\n",
    "def aggiorna_grafico(grado):\n",
    "    # Prepara i dati per sklearn\n",
    "    X = x.reshape(-1, 1)\n",
    "    \n",
    "    # Crea le features polinomiali\n",
    "    poly_features = PolynomialFeatures(degree=grado)\n",
    "    X_poly = poly_features.fit_transform(X)\n",
    "    \n",
    "    # Addestra il modello\n",
    "    model = LinearRegression()\n",
    "    model.fit(X_poly, y)\n",
    "    \n",
    "    # Predizioni\n",
    "    y_pred = model.predict(X_poly)\n",
    "    \n",
    "    rmse = math.sqrt(mean_squared_error(y, y_pred))\n",
    "    x_smooth = np.linspace(-3, 3, 300)\n",
    "    X_smooth = x_smooth.reshape(-1, 1)\n",
    "    X_smooth_poly = poly_features.transform(X_smooth)\n",
    "    y_smooth_pred = model.predict(X_smooth_poly)\n",
    "    \n",
    "    \n",
    "    fig = go.Figure()\n",
    "    fig.add_trace(go.Scatter(\n",
    "        x=x,\n",
    "        y=y,\n",
    "        mode='markers',\n",
    "        name='Dati originali',\n",
    "        marker=dict(color='blue', size=8, opacity=0.7)\n",
    "    ))\n",
    "    fig.add_trace(go.Scatter(\n",
    "        x=x_smooth,\n",
    "        y=y_smooth_pred,\n",
    "        mode='lines',\n",
    "        name=f'Polinomio grado {grado}',\n",
    "        line=dict(color='red', width=3)\n",
    "    ))\n",
    "    y_teorica = x**3 - x\n",
    "    fig.add_trace(go.Scatter(\n",
    "        x=x,\n",
    "        y=y_teorica,\n",
    "        mode='lines',\n",
    "        name='Funzione teorica (x³ - x)',\n",
    "        line=dict(color='green', width=2, dash='dash'),\n",
    "        opacity=0.7\n",
    "    ))\n",
    "    fig.update_layout(\n",
    "        title=f'Regressione Polinomiale - Grado {grado}',\n",
    "        xaxis_title='x',\n",
    "        yaxis_title='y',\n",
    "        showlegend=True,\n",
    "        width=800,\n",
    "        height=600,\n",
    "        template='plotly_white'\n",
    "    )\n",
    "    rmse_msg = f\"RMSE: {rmse:.4f}\"\n",
    "    \n",
    "    return fig, rmse_msg\n"
   ]
  },
  {
   "cell_type": "code",
   "execution_count": 19,
   "id": "36d66bde",
   "metadata": {},
   "outputs": [
    {
     "name": "stdout",
     "output_type": "stream",
     "text": [
      "Avvio dell'applicazione Dash...\n",
      "Apri il browser e vai a: http://127.0.0.1:8050\n"
     ]
    },
    {
     "data": {
      "text/html": [
       "\n",
       "        <iframe\n",
       "            width=\"100%\"\n",
       "            height=\"650\"\n",
       "            src=\"http://127.0.0.1:8050/\"\n",
       "            frameborder=\"0\"\n",
       "            allowfullscreen\n",
       "            \n",
       "        ></iframe>\n",
       "        "
      ],
      "text/plain": [
       "<IPython.lib.display.IFrame at 0x1cae43ae090>"
      ]
     },
     "metadata": {},
     "output_type": "display_data"
    }
   ],
   "source": [
    "#avvio applicazione\n",
    "if __name__ == '__main__':\n",
    "    print(\"Avvio dell'applicazione Dash...\")\n",
    "    print(\"Apri il browser e vai a: http://127.0.0.1:8050\")\n",
    "    app.run_server(debug=True)"
   ]
  }
 ],
 "metadata": {
  "kernelspec": {
   "display_name": ".conda",
   "language": "python",
   "name": "python3"
  },
  "language_info": {
   "codemirror_mode": {
    "name": "ipython",
    "version": 3
   },
   "file_extension": ".py",
   "mimetype": "text/x-python",
   "name": "python",
   "nbconvert_exporter": "python",
   "pygments_lexer": "ipython3",
   "version": "3.11.11"
  }
 },
 "nbformat": 4,
 "nbformat_minor": 5
}
