{
 "cells": [
  {
   "cell_type": "markdown",
   "metadata": {},
   "source": [
    "### **1. Trasformare cicli in list comprehension**\n",
    "\n",
    "Fai tre esempi di cicli producono una lista e poi riscrivi lo stesso codice usando la list comprehension"
   ]
  },
  {
   "cell_type": "code",
   "execution_count": null,
   "metadata": {},
   "outputs": [
    {
     "name": "stdout",
     "output_type": "stream",
     "text": [
      "[['P', 'y', 't', 'h', 'o', 'n'], ['è'], ['m', 'e', 'g', 'l', 'i', 'o'], ['d', 'i'], ['R']]\n"
     ]
    }
   ],
   "source": [
    "#creo un ciclo che restituisce la lista i caratteri di una stringa\n",
    "a = \"Python>R\"\n",
    "lettere = []\n",
    "for lettera in a:\n",
    "    lettere.append(lettera)\n",
    "\n",
    "lettere = [lettera for lettera in a]\n",
    "\n",
    "\n",
    "#creo un ciclo che restituisce la lista dei numeri da 1 a 19\n",
    "num = []\n",
    "for n in range(1,20):\n",
    "    num.append(n)\n",
    "\n",
    "num = [n for n in range(1,20)]\n",
    "\n",
    "#creo un ciclo che restituisce una lista di liste dove le liste interne sono i caratteri di una parola di una stringa\n",
    "stringa = \"Python è meglio di R\"\n",
    "frase = []\n",
    "parola = []\n",
    "for parole in stringa.split(\" \"):\n",
    "    for lettera in parole:\n",
    "        parola.append(lettera)\n",
    "    frase.append(parola)\n",
    "    parola = []\n",
    "\n",
    "frase = [[lettera for lettera in parola] for parola in stringa.split(\" \")]\n"
   ]
  },
  {
   "cell_type": "markdown",
   "metadata": {},
   "source": [
    "### **2. Vettore di Numeri Primi**\n",
    "\n",
    "1. **Crea un vettore** contenente tutti i numeri primi compresi tra **0 e 10**  \n",
    "   _(Puoi scriverli direttamente nell'array)._\n",
    "\n",
    "2. **Conta quanti numeri ci sono nel vettore** utilizzando la funzione `len()`.  **Ottieni lo stesso numero** accedendo all'attributo `.size` del vettore.\n",
    "\n",
    "3. Quale pensi sia il tipo di dato (`dtype`) del vettore?  Prova a rispondere senza eseguire il codice e Verifica la tua risposta accedendo all'attributo `.dtype` del vettore\n",
    "\n",
    "4. Scrivi l'array usando una list comprehension che controlla che i numeri siano primi. "
   ]
  },
  {
   "cell_type": "code",
   "execution_count": 2,
   "metadata": {},
   "outputs": [
    {
     "name": "stdout",
     "output_type": "stream",
     "text": [
      "len e size danno lo stesso risultato che è 4\n",
      "[2 3 5 7]\n",
      "int64\n"
     ]
    }
   ],
   "source": [
    "import numpy as np\n",
    "def n_primo(n):\n",
    "    if n <= 1:\n",
    "        return False\n",
    "    for i in range(2, int(n**0.5) + 1):\n",
    "        if n % i == 0:\n",
    "            return False\n",
    "    return True\n",
    "\n",
    "a = np.array([2,3,5,7])\n",
    "if len(a) == a.size:\n",
    "    print(f\"len e size danno lo stesso risultato che è {len(a)}\")\n",
    "\n",
    "n_primi = np.array([x for x in range(1, 11) if n_primo(x)])\n",
    "print(n_primi)\n",
    "#il tipo di dato sarà intero\n",
    "print(n_primi.dtype)\n"
   ]
  },
  {
   "cell_type": "markdown",
   "metadata": {},
   "source": [
    "### **3.  Operazioni su array**\n",
    "Crea un array **a**, 1D (senza digitarlo esplicitamente), e genera due nuovi array **b**, contenente una sottostringa a piacere e **c** che è il reverse dell'array **a** (esempio [1,2,3] diventa [3,2,1]) .  Dividi l'array **a** per l'array **c**. Fai la stessa cosa per una lista."
   ]
  },
  {
   "cell_type": "code",
   "execution_count": 17,
   "metadata": {},
   "outputs": [
    {
     "name": "stdout",
     "output_type": "stream",
     "text": [
      "[0.25       0.66666667 1.5        4.        ]\n",
      "[1 2 3 4]\n",
      "[3]\n",
      "[4 3 2 1]\n",
      "[0.25, 0.6666666666666666, 1.5, 4.0]\n",
      "[1, 2, 3, 4]\n",
      "[4, 3, 2, 1]\n"
     ]
    }
   ],
   "source": [
    "a = np.array([x for x in range(1,5)])\n",
    "b = np.array(a[2:3])\n",
    "c = np.array(a[::-1])\n",
    "print(a/c)\n",
    "print(a)\n",
    "print(b)\n",
    "print(c)\n",
    "\n",
    "a=[x for x in range(1,5)]\n",
    "b=a[2:3]\n",
    "c=a[::-1]\n",
    "a_diviso_c = [(a[i]/c[i]) for i in range(0,len(a))]\n",
    "print(a_diviso_c)\n",
    "print(a)\n",
    "print(c)"
   ]
  }
 ],
 "metadata": {
  "kernelspec": {
   "display_name": ".conda",
   "language": "python",
   "name": "python3"
  },
  "language_info": {
   "codemirror_mode": {
    "name": "ipython",
    "version": 3
   },
   "file_extension": ".py",
   "mimetype": "text/x-python",
   "name": "python",
   "nbconvert_exporter": "python",
   "pygments_lexer": "ipython3",
   "version": "3.11.11"
  }
 },
 "nbformat": 4,
 "nbformat_minor": 2
}
